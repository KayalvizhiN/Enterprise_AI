{
  "nbformat": 4,
  "nbformat_minor": 0,
  "metadata": {
    "colab": {
      "name": " Enterprise AI.ipynb",
      "provenance": [],
      "collapsed_sections": []
    },
    "kernelspec": {
      "name": "python3",
      "display_name": "Python 3"
    }
  },
  "cells": [
    {
      "cell_type": "markdown",
      "metadata": {
        "id": "P29dH3pZBDXC"
      },
      "source": [
        "**Sentimental Analysis**"
      ]
    },
    {
      "cell_type": "code",
      "metadata": {
        "colab": {
          "base_uri": "https://localhost:8080/"
        },
        "id": "bv9a6KWMLX8H",
        "outputId": "cdad72dd-4faf-43c2-c977-cb6c782f0790"
      },
      "source": [
        "import warnings\r\n",
        "warnings.filterwarnings('ignore')\r\n",
        "\r\n",
        "#import os\r\n",
        "#dir_Path = 'F://'\r\n",
        "#os.chdir(dir_Path)\r\n",
        "\r\n",
        "import pandas as pd\r\n",
        "Reviewdata = pd.read_csv('/content/drive/MyDrive/train.csv')\r\n",
        "#Data credit - https://www.kaggle.com/anu0012/hotel-review/data\r\n",
        "Reviewdata.shape"
      ],
      "execution_count": null,
      "outputs": [
        {
          "output_type": "execute_result",
          "data": {
            "text/plain": [
              "(38932, 5)"
            ]
          },
          "metadata": {
            "tags": []
          },
          "execution_count": 41
        }
      ]
    },
    {
      "cell_type": "code",
      "metadata": {
        "colab": {
          "base_uri": "https://localhost:8080/",
          "height": 204
        },
        "id": "7WO2J8oqMGmf",
        "outputId": "9ddb5b6e-5a0c-4e2f-e172-f1bead6c47dd"
      },
      "source": [
        "Reviewdata.head()"
      ],
      "execution_count": null,
      "outputs": [
        {
          "output_type": "execute_result",
          "data": {
            "text/html": [
              "<div>\n",
              "<style scoped>\n",
              "    .dataframe tbody tr th:only-of-type {\n",
              "        vertical-align: middle;\n",
              "    }\n",
              "\n",
              "    .dataframe tbody tr th {\n",
              "        vertical-align: top;\n",
              "    }\n",
              "\n",
              "    .dataframe thead th {\n",
              "        text-align: right;\n",
              "    }\n",
              "</style>\n",
              "<table border=\"1\" class=\"dataframe\">\n",
              "  <thead>\n",
              "    <tr style=\"text-align: right;\">\n",
              "      <th></th>\n",
              "      <th>User_ID</th>\n",
              "      <th>Description</th>\n",
              "      <th>Browser_Used</th>\n",
              "      <th>Device_Used</th>\n",
              "      <th>Is_Response</th>\n",
              "    </tr>\n",
              "  </thead>\n",
              "  <tbody>\n",
              "    <tr>\n",
              "      <th>0</th>\n",
              "      <td>id10326</td>\n",
              "      <td>The room was kind of clean but had a VERY stro...</td>\n",
              "      <td>Edge</td>\n",
              "      <td>Mobile</td>\n",
              "      <td>not happy</td>\n",
              "    </tr>\n",
              "    <tr>\n",
              "      <th>1</th>\n",
              "      <td>id10327</td>\n",
              "      <td>I stayed at the Crown Plaza April -- - April -...</td>\n",
              "      <td>Internet Explorer</td>\n",
              "      <td>Mobile</td>\n",
              "      <td>not happy</td>\n",
              "    </tr>\n",
              "    <tr>\n",
              "      <th>2</th>\n",
              "      <td>id10328</td>\n",
              "      <td>I booked this hotel through Hotwire at the low...</td>\n",
              "      <td>Mozilla</td>\n",
              "      <td>Tablet</td>\n",
              "      <td>not happy</td>\n",
              "    </tr>\n",
              "    <tr>\n",
              "      <th>3</th>\n",
              "      <td>id10329</td>\n",
              "      <td>Stayed here with husband and sons on the way t...</td>\n",
              "      <td>InternetExplorer</td>\n",
              "      <td>Desktop</td>\n",
              "      <td>happy</td>\n",
              "    </tr>\n",
              "    <tr>\n",
              "      <th>4</th>\n",
              "      <td>id10330</td>\n",
              "      <td>My girlfriends and I stayed here to celebrate ...</td>\n",
              "      <td>Edge</td>\n",
              "      <td>Tablet</td>\n",
              "      <td>not happy</td>\n",
              "    </tr>\n",
              "  </tbody>\n",
              "</table>\n",
              "</div>"
            ],
            "text/plain": [
              "   User_ID  ... Is_Response\n",
              "0  id10326  ...   not happy\n",
              "1  id10327  ...   not happy\n",
              "2  id10328  ...   not happy\n",
              "3  id10329  ...       happy\n",
              "4  id10330  ...   not happy\n",
              "\n",
              "[5 rows x 5 columns]"
            ]
          },
          "metadata": {
            "tags": []
          },
          "execution_count": 42
        }
      ]
    },
    {
      "cell_type": "code",
      "metadata": {
        "colab": {
          "base_uri": "https://localhost:8080/"
        },
        "id": "6-5d7siaMce7",
        "outputId": "00ddcad9-4ab1-47b2-9e72-27273c6c7781"
      },
      "source": [
        "Reviewdata.info()"
      ],
      "execution_count": null,
      "outputs": [
        {
          "output_type": "stream",
          "text": [
            "<class 'pandas.core.frame.DataFrame'>\n",
            "RangeIndex: 38932 entries, 0 to 38931\n",
            "Data columns (total 5 columns):\n",
            " #   Column        Non-Null Count  Dtype \n",
            "---  ------        --------------  ----- \n",
            " 0   User_ID       38932 non-null  object\n",
            " 1   Description   38932 non-null  object\n",
            " 2   Browser_Used  38932 non-null  object\n",
            " 3   Device_Used   38932 non-null  object\n",
            " 4   Is_Response   38932 non-null  object\n",
            "dtypes: object(5)\n",
            "memory usage: 1.5+ MB\n"
          ],
          "name": "stdout"
        }
      ]
    },
    {
      "cell_type": "code",
      "metadata": {
        "id": "NlyRkIvIU8fp",
        "colab": {
          "base_uri": "https://localhost:8080/",
          "height": 204
        },
        "outputId": "7be4bd79-8762-48b4-b228-4e9a228b0be8"
      },
      "source": [
        "Reviewdata.describe().transpose()"
      ],
      "execution_count": null,
      "outputs": [
        {
          "output_type": "execute_result",
          "data": {
            "text/html": [
              "<div>\n",
              "<style scoped>\n",
              "    .dataframe tbody tr th:only-of-type {\n",
              "        vertical-align: middle;\n",
              "    }\n",
              "\n",
              "    .dataframe tbody tr th {\n",
              "        vertical-align: top;\n",
              "    }\n",
              "\n",
              "    .dataframe thead th {\n",
              "        text-align: right;\n",
              "    }\n",
              "</style>\n",
              "<table border=\"1\" class=\"dataframe\">\n",
              "  <thead>\n",
              "    <tr style=\"text-align: right;\">\n",
              "      <th></th>\n",
              "      <th>count</th>\n",
              "      <th>unique</th>\n",
              "      <th>top</th>\n",
              "      <th>freq</th>\n",
              "    </tr>\n",
              "  </thead>\n",
              "  <tbody>\n",
              "    <tr>\n",
              "      <th>User_ID</th>\n",
              "      <td>38932</td>\n",
              "      <td>38932</td>\n",
              "      <td>id21962</td>\n",
              "      <td>1</td>\n",
              "    </tr>\n",
              "    <tr>\n",
              "      <th>Description</th>\n",
              "      <td>38932</td>\n",
              "      <td>38932</td>\n",
              "      <td>I booked this hotel using the betting option a...</td>\n",
              "      <td>1</td>\n",
              "    </tr>\n",
              "    <tr>\n",
              "      <th>Browser_Used</th>\n",
              "      <td>38932</td>\n",
              "      <td>11</td>\n",
              "      <td>Firefox</td>\n",
              "      <td>7367</td>\n",
              "    </tr>\n",
              "    <tr>\n",
              "      <th>Device_Used</th>\n",
              "      <td>38932</td>\n",
              "      <td>3</td>\n",
              "      <td>Desktop</td>\n",
              "      <td>15026</td>\n",
              "    </tr>\n",
              "    <tr>\n",
              "      <th>Is_Response</th>\n",
              "      <td>38932</td>\n",
              "      <td>2</td>\n",
              "      <td>happy</td>\n",
              "      <td>26521</td>\n",
              "    </tr>\n",
              "  </tbody>\n",
              "</table>\n",
              "</div>"
            ],
            "text/plain": [
              "              count  ...   freq\n",
              "User_ID       38932  ...      1\n",
              "Description   38932  ...      1\n",
              "Browser_Used  38932  ...   7367\n",
              "Device_Used   38932  ...  15026\n",
              "Is_Response   38932  ...  26521\n",
              "\n",
              "[5 rows x 4 columns]"
            ]
          },
          "metadata": {
            "tags": []
          },
          "execution_count": 44
        }
      ]
    },
    {
      "cell_type": "markdown",
      "metadata": {
        "id": "Rl4g2sorBXcR"
      },
      "source": [
        "**Data cleaning /** **EDA**"
      ]
    },
    {
      "cell_type": "code",
      "metadata": {
        "colab": {
          "base_uri": "https://localhost:8080/",
          "height": 221
        },
        "id": "Qr6Asie009Kh",
        "outputId": "ea984509-649d-4288-dd06-69503613a853"
      },
      "source": [
        "count = Reviewdata.isnull().sum().sort_values(ascending=False)\r\n",
        "percentage = ((Reviewdata.isnull().sum()/len(Reviewdata)*100)).sort_values(ascending=False)\r\n",
        "missing_data = pd.concat([count,percentage],axis=1,\r\n",
        "keys=['Count','Percentage'])\r\n",
        "\r\n",
        "print('count and percentage of missing values for the columns:')\r\n",
        "\r\n",
        "missing_data"
      ],
      "execution_count": null,
      "outputs": [
        {
          "output_type": "stream",
          "text": [
            "count and percentage of missing values for the columns:\n"
          ],
          "name": "stdout"
        },
        {
          "output_type": "execute_result",
          "data": {
            "text/html": [
              "<div>\n",
              "<style scoped>\n",
              "    .dataframe tbody tr th:only-of-type {\n",
              "        vertical-align: middle;\n",
              "    }\n",
              "\n",
              "    .dataframe tbody tr th {\n",
              "        vertical-align: top;\n",
              "    }\n",
              "\n",
              "    .dataframe thead th {\n",
              "        text-align: right;\n",
              "    }\n",
              "</style>\n",
              "<table border=\"1\" class=\"dataframe\">\n",
              "  <thead>\n",
              "    <tr style=\"text-align: right;\">\n",
              "      <th></th>\n",
              "      <th>Count</th>\n",
              "      <th>Percentage</th>\n",
              "    </tr>\n",
              "  </thead>\n",
              "  <tbody>\n",
              "    <tr>\n",
              "      <th>Is_Response</th>\n",
              "      <td>0</td>\n",
              "      <td>0.0</td>\n",
              "    </tr>\n",
              "    <tr>\n",
              "      <th>Device_Used</th>\n",
              "      <td>0</td>\n",
              "      <td>0.0</td>\n",
              "    </tr>\n",
              "    <tr>\n",
              "      <th>Browser_Used</th>\n",
              "      <td>0</td>\n",
              "      <td>0.0</td>\n",
              "    </tr>\n",
              "    <tr>\n",
              "      <th>Description</th>\n",
              "      <td>0</td>\n",
              "      <td>0.0</td>\n",
              "    </tr>\n",
              "    <tr>\n",
              "      <th>User_ID</th>\n",
              "      <td>0</td>\n",
              "      <td>0.0</td>\n",
              "    </tr>\n",
              "  </tbody>\n",
              "</table>\n",
              "</div>"
            ],
            "text/plain": [
              "              Count  Percentage\n",
              "Is_Response       0         0.0\n",
              "Device_Used       0         0.0\n",
              "Browser_Used      0         0.0\n",
              "Description       0         0.0\n",
              "User_ID           0         0.0"
            ]
          },
          "metadata": {
            "tags": []
          },
          "execution_count": 45
        }
      ]
    },
    {
      "cell_type": "code",
      "metadata": {
        "colab": {
          "base_uri": "https://localhost:8080/",
          "height": 407
        },
        "id": "5ivnewrmVLrS",
        "outputId": "54de9e76-eddf-47e4-bfbc-dc2b00473676"
      },
      "source": [
        "import matplotlib.pyplot as plt\r\n",
        "%matplotlib inline\r\n",
        "print('Percentage for default\\n')\r\n",
        "print(round(Reviewdata.Is_Response.value_counts(normalize=True)*100,2))\r\n",
        "round(Reviewdata.Is_Response.value_counts(normalize=True)*100,2).plot(kind='bar')\r\n",
        "plt.title('Percentage Distributions by review type')\r\n",
        "plt.show()"
      ],
      "execution_count": null,
      "outputs": [
        {
          "output_type": "stream",
          "text": [
            "Percentage for default\n",
            "\n",
            "happy        68.12\n",
            "not happy    31.88\n",
            "Name: Is_Response, dtype: float64\n"
          ],
          "name": "stdout"
        },
        {
          "output_type": "display_data",
          "data": {
            "image/png": "[encoded data removed]",
            "text/plain": [
              "<Figure size 432x288 with 1 Axes>"
            ]
          },
          "metadata": {
            "tags": [],
            "needs_background": "light"
          }
        }
      ]
    },
    {
      "cell_type": "markdown",
      "metadata": {
        "id": "F9zsJCUhBm4y"
      },
      "source": [
        "**Removing unwanted columns**"
      ]
    },
    {
      "cell_type": "code",
      "metadata": {
        "id": "Be23qvv8WqQT"
      },
      "source": [
        "Reviewdata.drop(columns = ['User_ID','Browser_Used','Device_Used'],inplace=True)"
      ],
      "execution_count": null,
      "outputs": []
    },
    {
      "cell_type": "markdown",
      "metadata": {
        "id": "DWLj2r-jBw-f"
      },
      "source": [
        "**Applying first level of cleaning**"
      ]
    },
    {
      "cell_type": "code",
      "metadata": {
        "id": "Z4ShvHzqXiiB"
      },
      "source": [
        "import re\r\n",
        "import string\r\n",
        "\r\n",
        "def text_clean_1(text):\r\n",
        "  text = text.lower()\r\n",
        "  text = re.sub('\\[.\"?\\]','',text)\r\n",
        "  text = re.sub(\"[%s]\" % re.escape(string.punctuation),'',text)\r\n",
        "  text = re.sub('\\w\"\\d\\w\"','',text)\r\n",
        "  return text\r\n",
        "\r\n",
        "cleaned1 = lambda x: text_clean_1(x)"
      ],
      "execution_count": null,
      "outputs": []
    },
    {
      "cell_type": "code",
      "metadata": {
        "colab": {
          "base_uri": "https://localhost:8080/",
          "height": 359
        },
        "id": "QKiiM58gY8B4",
        "outputId": "d5aebe99-830a-440d-d06a-c145ec95d934"
      },
      "source": [
        "Reviewdata['cleaned_description'] = pd.DataFrame(Reviewdata.Description.apply(cleaned1))\r\n",
        "Reviewdata.head(10)"
      ],
      "execution_count": null,
      "outputs": [
        {
          "output_type": "execute_result",
          "data": {
            "text/html": [
              "<div>\n",
              "<style scoped>\n",
              "    .dataframe tbody tr th:only-of-type {\n",
              "        vertical-align: middle;\n",
              "    }\n",
              "\n",
              "    .dataframe tbody tr th {\n",
              "        vertical-align: top;\n",
              "    }\n",
              "\n",
              "    .dataframe thead th {\n",
              "        text-align: right;\n",
              "    }\n",
              "</style>\n",
              "<table border=\"1\" class=\"dataframe\">\n",
              "  <thead>\n",
              "    <tr style=\"text-align: right;\">\n",
              "      <th></th>\n",
              "      <th>Description</th>\n",
              "      <th>Is_Response</th>\n",
              "      <th>cleaned_description</th>\n",
              "    </tr>\n",
              "  </thead>\n",
              "  <tbody>\n",
              "    <tr>\n",
              "      <th>0</th>\n",
              "      <td>The room was kind of clean but had a VERY stro...</td>\n",
              "      <td>not happy</td>\n",
              "      <td>the room was kind of clean but had a very stro...</td>\n",
              "    </tr>\n",
              "    <tr>\n",
              "      <th>1</th>\n",
              "      <td>I stayed at the Crown Plaza April -- - April -...</td>\n",
              "      <td>not happy</td>\n",
              "      <td>i stayed at the crown plaza april   april   th...</td>\n",
              "    </tr>\n",
              "    <tr>\n",
              "      <th>2</th>\n",
              "      <td>I booked this hotel through Hotwire at the low...</td>\n",
              "      <td>not happy</td>\n",
              "      <td>i booked this hotel through hotwire at the low...</td>\n",
              "    </tr>\n",
              "    <tr>\n",
              "      <th>3</th>\n",
              "      <td>Stayed here with husband and sons on the way t...</td>\n",
              "      <td>happy</td>\n",
              "      <td>stayed here with husband and sons on the way t...</td>\n",
              "    </tr>\n",
              "    <tr>\n",
              "      <th>4</th>\n",
              "      <td>My girlfriends and I stayed here to celebrate ...</td>\n",
              "      <td>not happy</td>\n",
              "      <td>my girlfriends and i stayed here to celebrate ...</td>\n",
              "    </tr>\n",
              "    <tr>\n",
              "      <th>5</th>\n",
              "      <td>We had - rooms. One was very nice and clearly ...</td>\n",
              "      <td>happy</td>\n",
              "      <td>we had  rooms one was very nice and clearly ha...</td>\n",
              "    </tr>\n",
              "    <tr>\n",
              "      <th>6</th>\n",
              "      <td>My husband and I have stayed in this hotel a f...</td>\n",
              "      <td>not happy</td>\n",
              "      <td>my husband and i have stayed in this hotel a f...</td>\n",
              "    </tr>\n",
              "    <tr>\n",
              "      <th>7</th>\n",
              "      <td>My wife &amp; I stayed in this glorious city a whi...</td>\n",
              "      <td>happy</td>\n",
              "      <td>my wife  i stayed in this glorious city a whil...</td>\n",
              "    </tr>\n",
              "    <tr>\n",
              "      <th>8</th>\n",
              "      <td>My boyfriend and I stayed at the Fairmont on a...</td>\n",
              "      <td>happy</td>\n",
              "      <td>my boyfriend and i stayed at the fairmont on a...</td>\n",
              "    </tr>\n",
              "    <tr>\n",
              "      <th>9</th>\n",
              "      <td>Wonderful staff, great location, but it was de...</td>\n",
              "      <td>not happy</td>\n",
              "      <td>wonderful staff great location but it was defi...</td>\n",
              "    </tr>\n",
              "  </tbody>\n",
              "</table>\n",
              "</div>"
            ],
            "text/plain": [
              "                                         Description  ...                                cleaned_description\n",
              "0  The room was kind of clean but had a VERY stro...  ...  the room was kind of clean but had a very stro...\n",
              "1  I stayed at the Crown Plaza April -- - April -...  ...  i stayed at the crown plaza april   april   th...\n",
              "2  I booked this hotel through Hotwire at the low...  ...  i booked this hotel through hotwire at the low...\n",
              "3  Stayed here with husband and sons on the way t...  ...  stayed here with husband and sons on the way t...\n",
              "4  My girlfriends and I stayed here to celebrate ...  ...  my girlfriends and i stayed here to celebrate ...\n",
              "5  We had - rooms. One was very nice and clearly ...  ...  we had  rooms one was very nice and clearly ha...\n",
              "6  My husband and I have stayed in this hotel a f...  ...  my husband and i have stayed in this hotel a f...\n",
              "7  My wife & I stayed in this glorious city a whi...  ...  my wife  i stayed in this glorious city a whil...\n",
              "8  My boyfriend and I stayed at the Fairmont on a...  ...  my boyfriend and i stayed at the fairmont on a...\n",
              "9  Wonderful staff, great location, but it was de...  ...  wonderful staff great location but it was defi...\n",
              "\n",
              "[10 rows x 3 columns]"
            ]
          },
          "metadata": {
            "tags": []
          },
          "execution_count": 49
        }
      ]
    },
    {
      "cell_type": "markdown",
      "metadata": {
        "id": "0fS9TzcaB7Ds"
      },
      "source": [
        "**Applying second level of cleaning**"
      ]
    },
    {
      "cell_type": "code",
      "metadata": {
        "id": "CmrmuUYcaQI2"
      },
      "source": [
        "def text_clean_2(text):\r\n",
        "  text = re.sub('[''\"\"_]', '', text)\r\n",
        "  text = re.sub('\\n', '', text)\r\n",
        "  return text\r\n",
        "\r\n",
        "cleaned2 = lambda x:text_clean_2(x)"
      ],
      "execution_count": null,
      "outputs": []
    },
    {
      "cell_type": "code",
      "metadata": {
        "colab": {
          "base_uri": "https://localhost:8080/",
          "height": 359
        },
        "id": "DEAyT8usbJ17",
        "outputId": "173cbd54-1a0d-445d-9ee7-659b4969d64b"
      },
      "source": [
        "Reviewdata['cleaned_description_new'] = pd.DataFrame(Reviewdata['cleaned_description'].apply(cleaned2))\r\n",
        "Reviewdata.head(10)"
      ],
      "execution_count": null,
      "outputs": [
        {
          "output_type": "execute_result",
          "data": {
            "text/html": [
              "<div>\n",
              "<style scoped>\n",
              "    .dataframe tbody tr th:only-of-type {\n",
              "        vertical-align: middle;\n",
              "    }\n",
              "\n",
              "    .dataframe tbody tr th {\n",
              "        vertical-align: top;\n",
              "    }\n",
              "\n",
              "    .dataframe thead th {\n",
              "        text-align: right;\n",
              "    }\n",
              "</style>\n",
              "<table border=\"1\" class=\"dataframe\">\n",
              "  <thead>\n",
              "    <tr style=\"text-align: right;\">\n",
              "      <th></th>\n",
              "      <th>Description</th>\n",
              "      <th>Is_Response</th>\n",
              "      <th>cleaned_description</th>\n",
              "      <th>cleaned_description_new</th>\n",
              "    </tr>\n",
              "  </thead>\n",
              "  <tbody>\n",
              "    <tr>\n",
              "      <th>0</th>\n",
              "      <td>The room was kind of clean but had a VERY stro...</td>\n",
              "      <td>not happy</td>\n",
              "      <td>the room was kind of clean but had a very stro...</td>\n",
              "      <td>the room was kind of clean but had a very stro...</td>\n",
              "    </tr>\n",
              "    <tr>\n",
              "      <th>1</th>\n",
              "      <td>I stayed at the Crown Plaza April -- - April -...</td>\n",
              "      <td>not happy</td>\n",
              "      <td>i stayed at the crown plaza april   april   th...</td>\n",
              "      <td>i stayed at the crown plaza april   april   th...</td>\n",
              "    </tr>\n",
              "    <tr>\n",
              "      <th>2</th>\n",
              "      <td>I booked this hotel through Hotwire at the low...</td>\n",
              "      <td>not happy</td>\n",
              "      <td>i booked this hotel through hotwire at the low...</td>\n",
              "      <td>i booked this hotel through hotwire at the low...</td>\n",
              "    </tr>\n",
              "    <tr>\n",
              "      <th>3</th>\n",
              "      <td>Stayed here with husband and sons on the way t...</td>\n",
              "      <td>happy</td>\n",
              "      <td>stayed here with husband and sons on the way t...</td>\n",
              "      <td>stayed here with husband and sons on the way t...</td>\n",
              "    </tr>\n",
              "    <tr>\n",
              "      <th>4</th>\n",
              "      <td>My girlfriends and I stayed here to celebrate ...</td>\n",
              "      <td>not happy</td>\n",
              "      <td>my girlfriends and i stayed here to celebrate ...</td>\n",
              "      <td>my girlfriends and i stayed here to celebrate ...</td>\n",
              "    </tr>\n",
              "    <tr>\n",
              "      <th>5</th>\n",
              "      <td>We had - rooms. One was very nice and clearly ...</td>\n",
              "      <td>happy</td>\n",
              "      <td>we had  rooms one was very nice and clearly ha...</td>\n",
              "      <td>we had  rooms one was very nice and clearly ha...</td>\n",
              "    </tr>\n",
              "    <tr>\n",
              "      <th>6</th>\n",
              "      <td>My husband and I have stayed in this hotel a f...</td>\n",
              "      <td>not happy</td>\n",
              "      <td>my husband and i have stayed in this hotel a f...</td>\n",
              "      <td>my husband and i have stayed in this hotel a f...</td>\n",
              "    </tr>\n",
              "    <tr>\n",
              "      <th>7</th>\n",
              "      <td>My wife &amp; I stayed in this glorious city a whi...</td>\n",
              "      <td>happy</td>\n",
              "      <td>my wife  i stayed in this glorious city a whil...</td>\n",
              "      <td>my wife  i stayed in this glorious city a whil...</td>\n",
              "    </tr>\n",
              "    <tr>\n",
              "      <th>8</th>\n",
              "      <td>My boyfriend and I stayed at the Fairmont on a...</td>\n",
              "      <td>happy</td>\n",
              "      <td>my boyfriend and i stayed at the fairmont on a...</td>\n",
              "      <td>my boyfriend and i stayed at the fairmont on a...</td>\n",
              "    </tr>\n",
              "    <tr>\n",
              "      <th>9</th>\n",
              "      <td>Wonderful staff, great location, but it was de...</td>\n",
              "      <td>not happy</td>\n",
              "      <td>wonderful staff great location but it was defi...</td>\n",
              "      <td>wonderful staff great location but it was defi...</td>\n",
              "    </tr>\n",
              "  </tbody>\n",
              "</table>\n",
              "</div>"
            ],
            "text/plain": [
              "                                         Description  ...                            cleaned_description_new\n",
              "0  The room was kind of clean but had a VERY stro...  ...  the room was kind of clean but had a very stro...\n",
              "1  I stayed at the Crown Plaza April -- - April -...  ...  i stayed at the crown plaza april   april   th...\n",
              "2  I booked this hotel through Hotwire at the low...  ...  i booked this hotel through hotwire at the low...\n",
              "3  Stayed here with husband and sons on the way t...  ...  stayed here with husband and sons on the way t...\n",
              "4  My girlfriends and I stayed here to celebrate ...  ...  my girlfriends and i stayed here to celebrate ...\n",
              "5  We had - rooms. One was very nice and clearly ...  ...  we had  rooms one was very nice and clearly ha...\n",
              "6  My husband and I have stayed in this hotel a f...  ...  my husband and i have stayed in this hotel a f...\n",
              "7  My wife & I stayed in this glorious city a whi...  ...  my wife  i stayed in this glorious city a whil...\n",
              "8  My boyfriend and I stayed at the Fairmont on a...  ...  my boyfriend and i stayed at the fairmont on a...\n",
              "9  Wonderful staff, great location, but it was de...  ...  wonderful staff great location but it was defi...\n",
              "\n",
              "[10 rows x 4 columns]"
            ]
          },
          "metadata": {
            "tags": []
          },
          "execution_count": 51
        }
      ]
    },
    {
      "cell_type": "markdown",
      "metadata": {
        "id": "HGGXTpa1CFTM"
      },
      "source": [
        "**Model Training**"
      ]
    },
    {
      "cell_type": "code",
      "metadata": {
        "colab": {
          "base_uri": "https://localhost:8080/"
        },
        "id": "zBpQ4JAFdkG5",
        "outputId": "78218dda-bf60-4462-a182-ae18a8d037f7"
      },
      "source": [
        "from sklearn.model_selection import train_test_split\r\n",
        "\r\n",
        "Independent_var = Reviewdata.cleaned_description_new\r\n",
        "Dependent_var = Reviewdata.Is_Response\r\n",
        "\r\n",
        "IV_train, IV_test, DV_train, DV_test = train_test_split(Independent_var, Dependent_var, test_size = 0.1, random_state = 225)\r\n",
        "\r\n",
        "print('IV_train :', len(IV_train))\r\n",
        "print('IV_test :', len(IV_test))\r\n",
        "print('DV_train :', len(DV_train))\r\n",
        "print('DV_test :', len(DV_test))"
      ],
      "execution_count": null,
      "outputs": [
        {
          "output_type": "stream",
          "text": [
            "IV_train : 35038\n",
            "IV_test : 3894\n",
            "DV_train : 35038\n",
            "DV_test : 3894\n"
          ],
          "name": "stdout"
        }
      ]
    },
    {
      "cell_type": "code",
      "metadata": {
        "id": "f6RIT8Ljgicz"
      },
      "source": [
        "from sklearn.feature_extraction.text import TfidfVectorizer\r\n",
        "from sklearn.linear_model import LogisticRegression\r\n",
        "\r\n",
        "tvec = TfidfVectorizer()\r\n",
        "clf2 = LogisticRegression(solver = \"lbfgs\")\r\n",
        "\r\n",
        "from sklearn.pipeline import Pipeline"
      ],
      "execution_count": null,
      "outputs": []
    },
    {
      "cell_type": "code",
      "metadata": {
        "colab": {
          "base_uri": "https://localhost:8080/"
        },
        "id": "vg_OcXlPhOVY",
        "outputId": "9345a894-4038-4bbd-c8bd-c728f2ebb6de"
      },
      "source": [
        "model = Pipeline([('vectorizer',tvec),('classifier',clf2)])\r\n",
        "\r\n",
        "model.fit(IV_train, DV_train)\r\n",
        "\r\n",
        "from sklearn.metrics import confusion_matrix\r\n",
        "\r\n",
        "predictions = model.predict(IV_test)\r\n",
        "\r\n",
        "confusion_matrix(predictions, DV_test)"
      ],
      "execution_count": null,
      "outputs": [
        {
          "output_type": "execute_result",
          "data": {
            "text/plain": [
              "array([[2420,  297],\n",
              "       [ 151, 1026]])"
            ]
          },
          "metadata": {
            "tags": []
          },
          "execution_count": 54
        }
      ]
    },
    {
      "cell_type": "markdown",
      "metadata": {
        "id": "z7uMT0mlCN00"
      },
      "source": [
        "**Model prediction**"
      ]
    },
    {
      "cell_type": "code",
      "metadata": {
        "colab": {
          "base_uri": "https://localhost:8080/"
        },
        "id": "Dlv8fh_2ily8",
        "outputId": "4de205f5-9cb7-4077-8b5c-070bc0f55a38"
      },
      "source": [
        "from sklearn.metrics import accuracy_score, precision_score, recall_score\r\n",
        "\r\n",
        "print(\"Accuracy : \", accuracy_score(predictions, DV_test))\r\n",
        "print(\"Precision : \", precision_score(predictions, DV_test, average = 'weighted'))\r\n",
        "print(\"Recall : \", recall_score(predictions, DV_test, average = 'weighted'))"
      ],
      "execution_count": null,
      "outputs": [
        {
          "output_type": "stream",
          "text": [
            "Accuracy :  0.8849512069851053\n",
            "Precision :  0.8911660597365276\n",
            "Recall :  0.8849512069851053\n"
          ],
          "name": "stdout"
        }
      ]
    },
    {
      "cell_type": "markdown",
      "metadata": {
        "id": "Cs22pLh_CVoQ"
      },
      "source": [
        "**Implementing new reviews**"
      ]
    },
    {
      "cell_type": "code",
      "metadata": {
        "colab": {
          "base_uri": "https://localhost:8080/"
        },
        "id": "VSlLgvGEjycu",
        "outputId": "c7a15524-38de-490b-8a6a-0d9c9a8d94b1"
      },
      "source": [
        "example = [\"I'm frustrated\"]\r\n",
        "result = model.predict(example)\r\n",
        "\r\n",
        "print(result)"
      ],
      "execution_count": null,
      "outputs": [
        {
          "output_type": "stream",
          "text": [
            "['not happy']\n"
          ],
          "name": "stdout"
        }
      ]
    },
    {
      "cell_type": "code",
      "metadata": {
        "colab": {
          "base_uri": "https://localhost:8080/"
        },
        "id": "r8PHGFonh1OS",
        "outputId": "ececcdad-2a4a-4475-ec8d-2613aba0b94d"
      },
      "source": [
        "import pandas as pd\r\n",
        "data=pd.read_csv(\"/content/drive/MyDrive/Download/comments.txt\",sep=\"\\n\")\r\n",
        "\r\n",
        "df = pd.DataFrame(data, columns = ['feedback'])\r\n",
        "\r\n",
        "comments=[]\r\n",
        "\r\n",
        "for i in df.index:\r\n",
        "  comments.append(df['feedback'][i])\r\n",
        "  #print((df['feedback'][i]))\r\n",
        "\r\n",
        "  result = model.predict(comments)\r\n",
        "#print(l)\r\n",
        "#print(result)\r\n",
        "data=[]\r\n",
        "positive=0\r\n",
        "negative=0\r\n",
        "for i in result:\r\n",
        "  if i == 'happy':\r\n",
        "    data.append(10)\r\n",
        "    positive+=1\r\n",
        "  else:\r\n",
        "    data.append(5)\r\n",
        "    negative+=1\r\n",
        "\r\n",
        "\r\n",
        "total=positive+negative\r\n",
        "happy=float((positive/total)*100)\r\n",
        "not_happy=float((negative/total)*100)\r\n",
        "print(\"happy:\",happy)\r\n",
        "print(\"not happy:\",not_happy)"
      ],
      "execution_count": null,
      "outputs": [
        {
          "output_type": "stream",
          "text": [
            "happy: 84.02154398563735\n",
            "not happy: 15.978456014362658\n"
          ],
          "name": "stdout"
        }
      ]
    },
    {
      "cell_type": "code",
      "metadata": {
        "colab": {
          "base_uri": "https://localhost:8080/",
          "height": 298
        },
        "id": "ZnKlxvzRdrAw",
        "outputId": "35d7dc1c-d403-4617-c2b3-55488003a448"
      },
      "source": [
        "pi=[happy,not_happy]\r\n",
        "label=['happy','not_happy']\r\n",
        "\r\n",
        "print(\"happy:\",happy)\r\n",
        "print(\"not happy:\",not_happy)\r\n",
        "\r\n",
        "plt.title(\"PIE CHART\") \r\n",
        "plt.pie(pi,labels=label)\r\n",
        "plt.show()\r\n"
      ],
      "execution_count": null,
      "outputs": [
        {
          "output_type": "stream",
          "text": [
            "happy: 84.02154398563735\n",
            "not happy: 15.978456014362658\n"
          ],
          "name": "stdout"
        },
        {
          "output_type": "display_data",
          "data": {
            "image/png": "[encoded data removed]",
            "text/plain": [
              "<Figure size 432x288 with 1 Axes>"
            ]
          },
          "metadata": {
            "tags": []
          }
        }
      ]
    },
    {
      "cell_type": "code",
      "metadata": {
        "colab": {
          "base_uri": "https://localhost:8080/"
        },
        "id": "8N1r6FN_dtZm",
        "outputId": "0c61dbfa-f4d6-4eb2-98b4-e252dbc04412"
      },
      "source": [
        "#print(len(comments))\r\n",
        "#print(len(result))\r\n",
        "\r\n",
        "dic={}\r\n",
        "\r\n",
        "for i in range(len(comments)):\r\n",
        "  dic[comments[i]]=result[i]\r\n",
        "\r\n",
        "#print(dic)\r\n",
        "\r\n",
        "negative_comments=[]\r\n",
        "\r\n",
        "for x, y in dic.items():\r\n",
        "  if y!='happy':\r\n",
        "    negative_comments.append(x)\r\n",
        "\r\n",
        "print(negative_comments)\r\n"
      ],
      "execution_count": null,
      "outputs": [
        {
          "output_type": "stream",
          "text": [
            "['The (basic) room was comfortable and not too small.', 'Some are fairly easy, but I definitely get stuck.', 'Nothing at all.', 'No one else can convey the experience of playing this game to you through mere words.', 'This Demo is Reasonable, but you can get tired of it in at least two days of gameplay.', \"Half my group were served and remainder weren't as just after 0300\", 'Damn, its too slow!!!', 'No noise.', 'Breakfast room is not as nice as the rest of the hotel', 'Okay location', \"Skype is NOT instagram, it's NOT Facebook, It's NOT supposed ro be anyrhing else but Skype.\", '(A square border frame appear on the output image)', 'Fortunately I managed to leave an elevator.', 'The property was going through some renovations of which I hope they extend to the rest of the property.', 'No mini game or anything like that.', 'i must play and then tell you about this', 'You can lear this in 5 minutes and get it running.', 'I have to say that I was not disappointed.', 'It has pretty much retained a style that is competitive and team-oriented, something which other games build on to complexity.', 'When I first began using camfrog almost a year ago my first impression was that the program seemed fun to use.', 'installation and usage is so simple that even people with no knowlege about proxy can enjoy security :)', \"There was nothing not to like, I can't promote this place enough, simply beautiful.\", 'We had to stand on a towel.', 'I just want to erase there message and there picture from the gallery.', \"It's not very time consuming or involved, but has the basics of catching Magikarp with different patterns, and training them to jump higher and higher to take on competitive leagues with other Magikarp.\", \"I've tried to use Eraser for two year now and finally the developer make the mistake of dising Windows 7 because his progrm won't work with it.\", 'It also had double doors that could open to internal courtyard and fresh air into the room.', 'Nothing to complain about.', 'I will never return to this facility because of this.', 'it is better if it had a cloud', \"You don't have to pay a penny, either.\", 'It seems to prevent spyware and viruses from getting through!', 'Minutes to Notre Dame.', 'Asking for a late check out was no problem.', 'Food is good but overpriced - breakfast for 70$?!. The rooms are ok but not very charming and have hardly no athmosphere.', \"You're not a small time app anymore!\", \"Several contacts with 'Service' ended in being told that Sodapdf 7 would resolve all the problems.\", 'We booked the hotel online and had never been to Barcelona.', 'yes i did try password revealer a couple of times, But i could not get it to work', 'I received some of my order and now im still waiting for the rest of my orders.', 'Thumb up for their services.', 'Menu at Restaurant was average.', 'This is not instagram or Facebook.', 'this game is the best but it honestly its not working', 'Not horrible, but not very memorable.', 'This is a short review because it is a small, easy app that does exactly what it is intended to do, and nothing else.', \"Don't bother with this place it's a waste of your money, there's way better around for the same price.\", 'Contacts and notes transferred which i expected.', 'Renovations underway - this property is dated.', 'You have to move piece by clicking in it & then click on other area', 'We called concierge (it was 11pm) and they propose to send engineer to repair in-room in 1 hour time.', 'The rooms are small, but exquisitely decorated.', 'The app is good but there are many ads, they will tell you at the beginning .', 'Licence key required!!!!!', 'For the astronomical room rate I expect perfection in a hotel of this sort.', 'For us there was nothing to dislike about this hotel!', 'I thought rooms will be small were quite adequate with amount of luggage we had.', 'Although not a problem for us, it would be useful to be advised in advance if your room is on the upper floors as a fair amount of stairs are involved.', 'To get the show box app you need to Google show box and downloaded it....', 'Not to be confused with Goggle or Googol.', 'Good app, does what it should.', 'Found a much better breakfast further down the beach at another resort for less than half the price.', 'I downloaded to watch 13 Reasons Why.', \"This villa is so gud I don't think so there is anything I didn't like but yes there should be LCD In each room.\", 'The Hotel itself is very dark and mysterious but in a totally satisfying way.', 'I think this is the only download manager which has BitTorrent protocol support.', 'I needed more hangers, hot water kettle and more towels and they were sent to our room immediately.', 'look nobody use only web browsing an operating system needs many many things else!!!!', 'i think it good downlaod manager,', \"It's a bit obviously repetitive but that's the point.\", 'I really like it but I wish you can \"re-unsend\"(I dont know how to say it) the messages that u send by mistake...', 'Ryanair changes their sitting algorithm to sit parties apart to pitch them their paid sitting upgrades.', 'really good add-on but they need to get better servers', 'Olivo restaurant on site very good, though service was poor due to multiple bookings for RC confirmation parties!', \"It's not a high end hotel rather just a nice middle of the road hotel.\", 'You have to disconnect your business account and go personal, then delete the Facebook share settings then log back into Facebook through Instagram, then once again configure the share page you want your photo shared too, then convert back to a business account!!!', 'It was not listed as a hostel when we booked, but it definitely is.', 'i like this', 'The hotel appears to have been discovered by tour operators.', 'I received an email saying that my booking was incomplete.', 'Nothing', 'I am hoping that it will be really useful on my trip to Vietnam, Cambodia (not supported yet), and Thailand this summer.', 'A good stand in for Corel 8 and Photo Paint 8 not being able to use in the new vista which stinks.', 'This is the second H10 hotel I have statyed in and it never let me down.', 'The hotel was so big that it was so hard to find our room, we got lost quite a few times lol.', 'Nothing bad to report- everything was great!!!', 'Slow service; staff were eager to offer help, but it was slow in coming.', 'I like the program idea but i searching a program for CREATE a windows 7 theme to patch and no a patcher', 'There is no winning, losing, or ending to it.']\n"
          ],
          "name": "stdout"
        }
      ]
    },
    {
      "cell_type": "code",
      "metadata": {
        "colab": {
          "base_uri": "https://localhost:8080/"
        },
        "id": "c2jIYeiQeAxI",
        "outputId": "e7f075b3-0ed8-493a-c2a7-7263b44f5eef"
      },
      "source": [
        "from textblob import TextBlob\r\n",
        "import nltk\r\n",
        "from nltk.corpus import stopwords\r\n",
        "from nltk.tokenize import word_tokenize\r\n",
        "nltk.download('stopwords')\r\n",
        "nltk.download('punkt')"
      ],
      "execution_count": null,
      "outputs": [
        {
          "output_type": "stream",
          "text": [
            "[nltk_data] Downloading package stopwords to /root/nltk_data...\n",
            "[nltk_data]   Unzipping corpora/stopwords.zip.\n",
            "[nltk_data] Downloading package punkt to /root/nltk_data...\n",
            "[nltk_data]   Unzipping tokenizers/punkt.zip.\n"
          ],
          "name": "stdout"
        },
        {
          "output_type": "execute_result",
          "data": {
            "text/plain": [
              "True"
            ]
          },
          "metadata": {
            "tags": []
          },
          "execution_count": 60
        }
      ]
    },
    {
      "cell_type": "markdown",
      "metadata": {
        "id": "sMTyxRwRCkLs"
      },
      "source": [
        "**Removing Stop Words**"
      ]
    },
    {
      "cell_type": "code",
      "metadata": {
        "colab": {
          "base_uri": "https://localhost:8080/"
        },
        "id": "T9W0Kf-IeCTM",
        "outputId": "2a55eb5e-a448-418e-b4ba-bb938328f423"
      },
      "source": [
        "#removing stop words\r\n",
        "stop_words = set(stopwords.words('english'))\r\n",
        "\r\n",
        "filter=[]\r\n",
        "\r\n",
        "for i in negative_comments:\r\n",
        "  word_tokens = word_tokenize(i)  \r\n",
        "  filtered_sentence = [w for w in word_tokens if not w in stop_words]  \r\n",
        "  filter+=filtered_sentence\r\n",
        "  #print(filtered_sentence)\r\n",
        "#print(filter)\r\n",
        "\r\n",
        "filter=set(filter)\r\n",
        "\r\n",
        "neg_key_words=[]\r\n",
        "\r\n",
        "for i in filter:\r\n",
        "  blob=TextBlob(i)\r\n",
        "  if(len(i)>5) and blob.sentiment.polarity != 0:\r\n",
        "    #print(i+\":\"+str(blob.sentiment.polarity))\r\n",
        "    neg_key_words.append(i)\r\n",
        "\r\n",
        "print(neg_key_words)"
      ],
      "execution_count": null,
      "outputs": [
        {
          "output_type": "stream",
          "text": [
            "['average', 'horrible', 'adequate', 'catching', 'hardly', 'exactly', 'Reasonable', 'higher', 'expected', 'Fortunately', 'useful', 'charming', 'really', 'beautiful', 'pretty', 'disappointed', 'comfortable', 'memorable', 'exquisitely', 'repetitive', 'satisfying', 'honestly', 'confused', 'fairly', 'stinks', 'winning', 'better']\n"
          ],
          "name": "stdout"
        }
      ]
    },
    {
      "cell_type": "markdown",
      "metadata": {
        "id": "v5UpCA6XCrHq"
      },
      "source": [
        "**Image to text**"
      ]
    },
    {
      "cell_type": "code",
      "metadata": {
        "id": "eCv3OoCSd-ME",
        "colab": {
          "base_uri": "https://localhost:8080/"
        },
        "outputId": "37be118a-ef55-4d09-fa4a-25d7882600bf"
      },
      "source": [
        "!pip install tesseract\r\n",
        "!pip install pytesseract\r\n",
        "!sudo apt-get install tesseract-ocr"
      ],
      "execution_count": null,
      "outputs": [
        {
          "output_type": "stream",
          "text": [
            "Requirement already satisfied: tesseract in /usr/local/lib/python3.6/dist-packages (0.1.3)\n",
            "Requirement already satisfied: pytesseract in /usr/local/lib/python3.6/dist-packages (0.3.7)\n",
            "Requirement already satisfied: Pillow in /usr/local/lib/python3.6/dist-packages (from pytesseract) (7.0.0)\n",
            "Reading package lists... Done\n",
            "Building dependency tree       \n",
            "Reading state information... Done\n",
            "tesseract-ocr is already the newest version (4.00~git2288-10f4998a-2).\n",
            "0 upgraded, 0 newly installed, 0 to remove and 15 not upgraded.\n"
          ],
          "name": "stdout"
        }
      ]
    },
    {
      "cell_type": "code",
      "metadata": {
        "colab": {
          "base_uri": "https://localhost:8080/"
        },
        "id": "EMf6axkTelNk",
        "outputId": "a74e90e1-c8a0-45b2-97c1-a449e350d6ea"
      },
      "source": [
        "!which tesseract"
      ],
      "execution_count": null,
      "outputs": [
        {
          "output_type": "stream",
          "text": [
            "/usr/bin/tesseract\n"
          ],
          "name": "stdout"
        }
      ]
    },
    {
      "cell_type": "code",
      "metadata": {
        "colab": {
          "base_uri": "https://localhost:8080/"
        },
        "id": "qUO6KZ_MepSY",
        "outputId": "dc1e576f-75c9-49fe-f2f8-6f1782964781"
      },
      "source": [
        "import pytesseract\r\n",
        "from PIL import Image\r\n",
        "\r\n",
        "pytesseract.pytesseract.tesseract_cmd = r\"/usr/bin/tesseract\"\r\n",
        "\r\n",
        "img = Image.open('/content/drive/MyDrive/sample.jpg')\r\n",
        "text = pytesseract.image_to_string(img)\r\n",
        "print(text)"
      ],
      "execution_count": null,
      "outputs": [
        {
          "output_type": "stream",
          "text": [
            "Reviews\n",
            "\n",
            "tet Thorough and Timely Support\n",
            "Media Cafe September 16, 2019\n",
            "\n",
            " \n",
            "\n",
            " \n",
            "\n",
            "The support | received was thorough and timely and my issue\n",
            "was addressed with a single interaction. Awesome!\n",
            "\n",
            "kender September 12,2019\n",
            "\n",
            "(4 tek kw Perfect customer support\n",
            "\n",
            "The plugin works as advertised, and with my customization re-\n",
            "quests the support team was quick to respond with sample\n",
            "code to help me meet my specific needs. Would definitely rec-\n",
            "ommend this to meet your wholesaler needs on any woocam-\n",
            "merce site\n",
            "\f\n"
          ],
          "name": "stdout"
        }
      ]
    },
    {
      "cell_type": "code",
      "metadata": {
        "colab": {
          "base_uri": "https://localhost:8080/",
          "height": 298
        },
        "id": "ocuOvS2l-kJC",
        "outputId": "273303f0-3d2b-4096-ea09-797eb76d146d"
      },
      "source": [
        "def Convert(string): \r\n",
        "    if string != \"\" :\r\n",
        "\t    li = list(string.strip(\"\\n\").split(\" \")) \r\n",
        "    return li\r\n",
        "\r\n",
        "p=Convert(text)\t \r\n",
        "\r\n",
        "\r\n",
        "result = model.predict(p)\r\n",
        "#print(l)\r\n",
        "#print(result)\r\n",
        "data=[]\r\n",
        "positive=0\r\n",
        "negative=0\r\n",
        "for i in result:\r\n",
        "  if i == 'happy':\r\n",
        "    data.append(10)\r\n",
        "    positive+=1\r\n",
        "  else:\r\n",
        "    data.append(5)\r\n",
        "    negative+=1\r\n",
        "\r\n",
        "\r\n",
        "total=positive+negative\r\n",
        "happy=float((positive/total)*100)\r\n",
        "not_happy=float((negative/total)*100)\r\n",
        "print(\"happy:\",happy)\r\n",
        "print(\"not happy:\",not_happy)\r\n",
        "\r\n",
        "\r\n",
        "pi=[happy,not_happy]\r\n",
        "label=['happy','not_happy']\r\n",
        "\r\n",
        "\r\n",
        "\r\n",
        "plt.title(\"PIE CHART\") \r\n",
        "plt.pie(pi,labels=label)\r\n",
        "plt.show()\r\n",
        "\r\n",
        "\r\n",
        "\r\n"
      ],
      "execution_count": null,
      "outputs": [
        {
          "output_type": "stream",
          "text": [
            "happy: 72.22222222222221\n",
            "not happy: 27.77777777777778\n"
          ],
          "name": "stdout"
        },
        {
          "output_type": "display_data",
          "data": {
            "image/png": "[encoded data removed]",
            "text/plain": [
              "<Figure size 432x288 with 1 Axes>"
            ]
          },
          "metadata": {
            "tags": []
          }
        }
      ]
    }
  ]
}